{
 "cells": [
  {
   "cell_type": "markdown",
   "id": "9701ba71-e44d-4753-82bc-858bc2d4696f",
   "metadata": {},
   "source": [
    "# Data Science Tools and Ecosystem\n",
    "In this notebook, Data Science Tools and Ecosystem are summarised. "
   ]
  },
  {
   "cell_type": "markdown",
   "id": "3bc43691-d2a5-4b0f-9bac-f53bbc4958ca",
   "metadata": {},
   "source": [
    "__Objectives:__\n",
    "-  List some popular programming languages in data science\n",
    "-  List some common libraries used in data science\n",
    "-  List some common tools and environments used in data science\n",
    "-  Write some simple lines of code in Python\n",
    "-  Write a small code in Python and execute it.\n"
   ]
  },
  {
   "cell_type": "markdown",
   "id": "ff2752cd-3df2-4b88-855d-19a8f80195e8",
   "metadata": {},
   "source": [
    "Some popular programming languages useful in Data Science are: \n",
    "1. Pyhton\n",
    "2. R\n",
    "3. Julia\n",
    "4. Ruby\n",
    "5. Matlab\n",
    "6. C\n",
    "7. C++"
   ]
  },
  {
   "cell_type": "markdown",
   "id": "14aa85c4-6cc9-4c18-90f3-2be8e0ef0f68",
   "metadata": {},
   "source": [
    "Some common libraries used by data scientists include\n",
    "1. Numpy\n",
    "2. Pandas\n",
    "3. Matplotlib\n",
    "4. dplyr\n",
    "5. stringr\n",
    "6. caret"
   ]
  },
  {
   "cell_type": "markdown",
   "id": "37d5eaca-30e7-434b-b8ea-c382487a414d",
   "metadata": {},
   "source": [
    "| Data Science Tools |\n",
    "|:------------------:|\n",
    "|Jupyter notebook    |\n",
    "| GitHub             |\n",
    "| R studio           |"
   ]
  },
  {
   "cell_type": "markdown",
   "id": "e6d14d1a-e6c1-4ea6-af45-c67b383c1e2c",
   "metadata": {},
   "source": [
    "### Below are a few examples of evaluating arithmetic expressions in Python\n",
    "<font color=blue>\n",
    "#calculating sum of squares\n",
    "\n",
    "a=3\n",
    "***\n",
    "b=4\n",
    "***\n",
    "c= a + b </font>\n",
    "\n"
   ]
  },
  {
   "cell_type": "code",
   "execution_count": 15,
   "id": "d32a236f-d9ae-48b0-bdb8-ff1294077125",
   "metadata": {},
   "outputs": [
    {
     "name": "stdout",
     "output_type": "stream",
     "text": [
      "a=3 , b=4 , c=5 , d=17\n"
     ]
    }
   ],
   "source": [
    "# sample python code to add and multiply\n",
    "a=3\n",
    "b=4\n",
    "c=5\n",
    "d=(a*b)+c\n",
    "print(f\"a={a} , b={b} , c={c} , d={d}\")"
   ]
  },
  {
   "cell_type": "code",
   "execution_count": 14,
   "id": "271c8da7-f652-4106-9e4c-6b5e123117ab",
   "metadata": {},
   "outputs": [
    {
     "name": "stdout",
     "output_type": "stream",
     "text": [
      "mins=200, hrs=3.3333333333333335\n"
     ]
    }
   ],
   "source": [
    "#This code will convert minutes into hours\n",
    "num_mins=200\n",
    "mins2hrs=60\n",
    "num_hrs=num_mins/mins2hrs\n",
    "print(f\"mins={num_mins}, hrs={num_hrs}\")"
   ]
  },
  {
   "cell_type": "markdown",
   "id": "bb02c4be-5b54-442a-9719-997353968fa2",
   "metadata": {},
   "source": [
    "## Author\n",
    "Dr Sharada Boinepalli"
   ]
  },
  {
   "cell_type": "code",
   "execution_count": null,
   "id": "93ea7a13-a159-4a66-bc98-e04a15dd251b",
   "metadata": {},
   "outputs": [],
   "source": []
  },
  {
   "cell_type": "code",
   "execution_count": null,
   "id": "b94ca5d6-c84f-49d2-9b47-dcdaad52a7a2",
   "metadata": {},
   "outputs": [],
   "source": []
  }
 ],
 "metadata": {
  "kernelspec": {
   "display_name": "Python 3 (ipykernel)",
   "language": "python",
   "name": "python3"
  },
  "language_info": {
   "codemirror_mode": {
    "name": "ipython",
    "version": 3
   },
   "file_extension": ".py",
   "mimetype": "text/x-python",
   "name": "python",
   "nbconvert_exporter": "python",
   "pygments_lexer": "ipython3",
   "version": "3.12.4"
  }
 },
 "nbformat": 4,
 "nbformat_minor": 5
}
